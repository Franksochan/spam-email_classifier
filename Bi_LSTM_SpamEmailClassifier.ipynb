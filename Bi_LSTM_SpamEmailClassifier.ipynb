{
  "cells": [
    {
      "cell_type": "markdown",
      "metadata": {
        "id": "pjIOuX5_xY66"
      },
      "source": [
        "# Spam Email Classifier using Bidirectional LSTM"
      ]
    },
    {
      "cell_type": "markdown",
      "metadata": {
        "id": "PQvXj5azxe6n"
      },
      "source": [
        "### Load dependencies"
      ]
    },
    {
      "cell_type": "code",
      "execution_count": null,
      "metadata": {
        "id": "jR-0nzcZxhV-",
        "outputId": "543bf85f-46bf-4fcf-e573-7a09febd5b19",
        "colab": {
          "base_uri": "https://localhost:8080/",
          "height": 383
        }
      },
      "outputs": [
        {
          "output_type": "error",
          "ename": "ModuleNotFoundError",
          "evalue": "No module named 'keras.preprocessing.text'",
          "traceback": [
            "\u001b[0;31m---------------------------------------------------------------------------\u001b[0m",
            "\u001b[0;31mModuleNotFoundError\u001b[0m                       Traceback (most recent call last)",
            "\u001b[0;32m<ipython-input-1-38c9835b90dc>\u001b[0m in \u001b[0;36m<cell line: 6>\u001b[0;34m()\u001b[0m\n\u001b[1;32m      4\u001b[0m \u001b[0;32mfrom\u001b[0m \u001b[0msklearn\u001b[0m\u001b[0;34m.\u001b[0m\u001b[0mmodel_selection\u001b[0m \u001b[0;32mimport\u001b[0m \u001b[0mtrain_test_split\u001b[0m\u001b[0;34m\u001b[0m\u001b[0;34m\u001b[0m\u001b[0m\n\u001b[1;32m      5\u001b[0m \u001b[0;32mfrom\u001b[0m \u001b[0msklearn\u001b[0m\u001b[0;34m.\u001b[0m\u001b[0mpreprocessing\u001b[0m \u001b[0;32mimport\u001b[0m \u001b[0mLabelEncoder\u001b[0m\u001b[0;34m\u001b[0m\u001b[0;34m\u001b[0m\u001b[0m\n\u001b[0;32m----> 6\u001b[0;31m \u001b[0;32mfrom\u001b[0m \u001b[0mkeras\u001b[0m\u001b[0;34m.\u001b[0m\u001b[0mpreprocessing\u001b[0m\u001b[0;34m.\u001b[0m\u001b[0mtext\u001b[0m \u001b[0;32mimport\u001b[0m \u001b[0mTokenizer\u001b[0m\u001b[0;34m\u001b[0m\u001b[0;34m\u001b[0m\u001b[0m\n\u001b[0m\u001b[1;32m      7\u001b[0m \u001b[0;32mfrom\u001b[0m \u001b[0mkeras\u001b[0m\u001b[0;34m.\u001b[0m\u001b[0mpreprocessing\u001b[0m\u001b[0;34m.\u001b[0m\u001b[0msequence\u001b[0m \u001b[0;32mimport\u001b[0m \u001b[0mpad_sequences\u001b[0m\u001b[0;34m\u001b[0m\u001b[0;34m\u001b[0m\u001b[0m\n\u001b[1;32m      8\u001b[0m \u001b[0;32mfrom\u001b[0m \u001b[0mkeras\u001b[0m\u001b[0;34m.\u001b[0m\u001b[0mmodels\u001b[0m \u001b[0;32mimport\u001b[0m \u001b[0mSequential\u001b[0m\u001b[0;34m\u001b[0m\u001b[0;34m\u001b[0m\u001b[0m\n",
            "\u001b[0;31mModuleNotFoundError\u001b[0m: No module named 'keras.preprocessing.text'",
            "",
            "\u001b[0;31m---------------------------------------------------------------------------\u001b[0;32m\nNOTE: If your import is failing due to a missing package, you can\nmanually install dependencies using either !pip or !apt.\n\nTo view examples of installing some common dependencies, click the\n\"Open Examples\" button below.\n\u001b[0;31m---------------------------------------------------------------------------\u001b[0m\n"
          ],
          "errorDetails": {
            "actions": [
              {
                "action": "open_url",
                "actionText": "Open Examples",
                "url": "/notebooks/snippets/importing_libraries.ipynb"
              }
            ]
          }
        }
      ],
      "source": [
        "import pandas as pd\n",
        "import tensorflow as tf\n",
        "import keras\n",
        "from sklearn.model_selection import train_test_split\n",
        "from sklearn.preprocessing import LabelEncoder\n",
        "from keras.preprocessing.text import Tokenizer\n",
        "from keras.preprocessing.sequence import pad_sequences\n",
        "from keras.models import Sequential\n",
        "from keras.layers import Embedding, LSTM, Dense, SpatialDropout1D, Bidirectional\n",
        "from sklearn.metrics import roc_auc_score\n",
        "import matplotlib.pyplot as plt\n",
        "import seaborn as sns\n",
        "import pandas as pd\n",
        "import io\n",
        "import pickle"
      ]
    },
    {
      "cell_type": "code",
      "source": [
        "print(tf.__version__)"
      ],
      "metadata": {
        "colab": {
          "base_uri": "https://localhost:8080/"
        },
        "id": "p1aM_tpd4a4Y",
        "outputId": "d73526b0-bfc0-4b8a-d04e-173e44564fba"
      },
      "execution_count": null,
      "outputs": [
        {
          "output_type": "stream",
          "name": "stdout",
          "text": [
            "2.15.0\n"
          ]
        }
      ]
    },
    {
      "cell_type": "markdown",
      "metadata": {
        "id": "Cv9IqjJ-xlEq"
      },
      "source": [
        "### Load dataset"
      ]
    },
    {
      "cell_type": "code",
      "execution_count": null,
      "metadata": {
        "colab": {
          "base_uri": "https://localhost:8080/",
          "height": 73
        },
        "id": "QBby6jDKm660",
        "outputId": "64b7b4c1-7c91-419a-ac81-66c55b3855fd"
      },
      "outputs": [
        {
          "data": {
            "text/html": [
              "\n",
              "     <input type=\"file\" id=\"files-9923d41c-2449-45e1-a8bd-3cb253b1d40b\" name=\"files[]\" multiple disabled\n",
              "        style=\"border:none\" />\n",
              "     <output id=\"result-9923d41c-2449-45e1-a8bd-3cb253b1d40b\">\n",
              "      Upload widget is only available when the cell has been executed in the\n",
              "      current browser session. Please rerun this cell to enable.\n",
              "      </output>\n",
              "      <script>// Copyright 2017 Google LLC\n",
              "//\n",
              "// Licensed under the Apache License, Version 2.0 (the \"License\");\n",
              "// you may not use this file except in compliance with the License.\n",
              "// You may obtain a copy of the License at\n",
              "//\n",
              "//      http://www.apache.org/licenses/LICENSE-2.0\n",
              "//\n",
              "// Unless required by applicable law or agreed to in writing, software\n",
              "// distributed under the License is distributed on an \"AS IS\" BASIS,\n",
              "// WITHOUT WARRANTIES OR CONDITIONS OF ANY KIND, either express or implied.\n",
              "// See the License for the specific language governing permissions and\n",
              "// limitations under the License.\n",
              "\n",
              "/**\n",
              " * @fileoverview Helpers for google.colab Python module.\n",
              " */\n",
              "(function(scope) {\n",
              "function span(text, styleAttributes = {}) {\n",
              "  const element = document.createElement('span');\n",
              "  element.textContent = text;\n",
              "  for (const key of Object.keys(styleAttributes)) {\n",
              "    element.style[key] = styleAttributes[key];\n",
              "  }\n",
              "  return element;\n",
              "}\n",
              "\n",
              "// Max number of bytes which will be uploaded at a time.\n",
              "const MAX_PAYLOAD_SIZE = 100 * 1024;\n",
              "\n",
              "function _uploadFiles(inputId, outputId) {\n",
              "  const steps = uploadFilesStep(inputId, outputId);\n",
              "  const outputElement = document.getElementById(outputId);\n",
              "  // Cache steps on the outputElement to make it available for the next call\n",
              "  // to uploadFilesContinue from Python.\n",
              "  outputElement.steps = steps;\n",
              "\n",
              "  return _uploadFilesContinue(outputId);\n",
              "}\n",
              "\n",
              "// This is roughly an async generator (not supported in the browser yet),\n",
              "// where there are multiple asynchronous steps and the Python side is going\n",
              "// to poll for completion of each step.\n",
              "// This uses a Promise to block the python side on completion of each step,\n",
              "// then passes the result of the previous step as the input to the next step.\n",
              "function _uploadFilesContinue(outputId) {\n",
              "  const outputElement = document.getElementById(outputId);\n",
              "  const steps = outputElement.steps;\n",
              "\n",
              "  const next = steps.next(outputElement.lastPromiseValue);\n",
              "  return Promise.resolve(next.value.promise).then((value) => {\n",
              "    // Cache the last promise value to make it available to the next\n",
              "    // step of the generator.\n",
              "    outputElement.lastPromiseValue = value;\n",
              "    return next.value.response;\n",
              "  });\n",
              "}\n",
              "\n",
              "/**\n",
              " * Generator function which is called between each async step of the upload\n",
              " * process.\n",
              " * @param {string} inputId Element ID of the input file picker element.\n",
              " * @param {string} outputId Element ID of the output display.\n",
              " * @return {!Iterable<!Object>} Iterable of next steps.\n",
              " */\n",
              "function* uploadFilesStep(inputId, outputId) {\n",
              "  const inputElement = document.getElementById(inputId);\n",
              "  inputElement.disabled = false;\n",
              "\n",
              "  const outputElement = document.getElementById(outputId);\n",
              "  outputElement.innerHTML = '';\n",
              "\n",
              "  const pickedPromise = new Promise((resolve) => {\n",
              "    inputElement.addEventListener('change', (e) => {\n",
              "      resolve(e.target.files);\n",
              "    });\n",
              "  });\n",
              "\n",
              "  const cancel = document.createElement('button');\n",
              "  inputElement.parentElement.appendChild(cancel);\n",
              "  cancel.textContent = 'Cancel upload';\n",
              "  const cancelPromise = new Promise((resolve) => {\n",
              "    cancel.onclick = () => {\n",
              "      resolve(null);\n",
              "    };\n",
              "  });\n",
              "\n",
              "  // Wait for the user to pick the files.\n",
              "  const files = yield {\n",
              "    promise: Promise.race([pickedPromise, cancelPromise]),\n",
              "    response: {\n",
              "      action: 'starting',\n",
              "    }\n",
              "  };\n",
              "\n",
              "  cancel.remove();\n",
              "\n",
              "  // Disable the input element since further picks are not allowed.\n",
              "  inputElement.disabled = true;\n",
              "\n",
              "  if (!files) {\n",
              "    return {\n",
              "      response: {\n",
              "        action: 'complete',\n",
              "      }\n",
              "    };\n",
              "  }\n",
              "\n",
              "  for (const file of files) {\n",
              "    const li = document.createElement('li');\n",
              "    li.append(span(file.name, {fontWeight: 'bold'}));\n",
              "    li.append(span(\n",
              "        `(${file.type || 'n/a'}) - ${file.size} bytes, ` +\n",
              "        `last modified: ${\n",
              "            file.lastModifiedDate ? file.lastModifiedDate.toLocaleDateString() :\n",
              "                                    'n/a'} - `));\n",
              "    const percent = span('0% done');\n",
              "    li.appendChild(percent);\n",
              "\n",
              "    outputElement.appendChild(li);\n",
              "\n",
              "    const fileDataPromise = new Promise((resolve) => {\n",
              "      const reader = new FileReader();\n",
              "      reader.onload = (e) => {\n",
              "        resolve(e.target.result);\n",
              "      };\n",
              "      reader.readAsArrayBuffer(file);\n",
              "    });\n",
              "    // Wait for the data to be ready.\n",
              "    let fileData = yield {\n",
              "      promise: fileDataPromise,\n",
              "      response: {\n",
              "        action: 'continue',\n",
              "      }\n",
              "    };\n",
              "\n",
              "    // Use a chunked sending to avoid message size limits. See b/62115660.\n",
              "    let position = 0;\n",
              "    do {\n",
              "      const length = Math.min(fileData.byteLength - position, MAX_PAYLOAD_SIZE);\n",
              "      const chunk = new Uint8Array(fileData, position, length);\n",
              "      position += length;\n",
              "\n",
              "      const base64 = btoa(String.fromCharCode.apply(null, chunk));\n",
              "      yield {\n",
              "        response: {\n",
              "          action: 'append',\n",
              "          file: file.name,\n",
              "          data: base64,\n",
              "        },\n",
              "      };\n",
              "\n",
              "      let percentDone = fileData.byteLength === 0 ?\n",
              "          100 :\n",
              "          Math.round((position / fileData.byteLength) * 100);\n",
              "      percent.textContent = `${percentDone}% done`;\n",
              "\n",
              "    } while (position < fileData.byteLength);\n",
              "  }\n",
              "\n",
              "  // All done.\n",
              "  yield {\n",
              "    response: {\n",
              "      action: 'complete',\n",
              "    }\n",
              "  };\n",
              "}\n",
              "\n",
              "scope.google = scope.google || {};\n",
              "scope.google.colab = scope.google.colab || {};\n",
              "scope.google.colab._files = {\n",
              "  _uploadFiles,\n",
              "  _uploadFilesContinue,\n",
              "};\n",
              "})(self);\n",
              "</script> "
            ],
            "text/plain": [
              "<IPython.core.display.HTML object>"
            ]
          },
          "metadata": {},
          "output_type": "display_data"
        },
        {
          "name": "stdout",
          "output_type": "stream",
          "text": [
            "Saving enron_spam_data.csv to enron_spam_data.csv\n"
          ]
        }
      ],
      "source": [
        "from google.colab import files\n",
        "uploaded = files.upload()"
      ]
    },
    {
      "cell_type": "code",
      "execution_count": null,
      "metadata": {
        "id": "l3P_9Cge0lvY"
      },
      "outputs": [],
      "source": [
        "df = pd.read_csv(io.BytesIO(uploaded['enron_spam_data.csv']))"
      ]
    },
    {
      "cell_type": "code",
      "execution_count": null,
      "metadata": {
        "colab": {
          "base_uri": "https://localhost:8080/",
          "height": 206
        },
        "id": "XwlDLpQh0u4K",
        "outputId": "1f21a8e9-95e8-4d64-98bd-9dded523ebdd"
      },
      "outputs": [
        {
          "data": {
            "application/vnd.google.colaboratory.intrinsic+json": {
              "summary": "{\n  \"name\": \"df\",\n  \"rows\": 33716,\n  \"fields\": [\n    {\n      \"column\": \"Message ID\",\n      \"properties\": {\n        \"dtype\": \"number\",\n        \"std\": 9733,\n        \"min\": 0,\n        \"max\": 33715,\n        \"num_unique_values\": 33716,\n        \"samples\": [\n          3820,\n          3504,\n          30823\n        ],\n        \"semantic_type\": \"\",\n        \"description\": \"\"\n      }\n    },\n    {\n      \"column\": \"Subject\",\n      \"properties\": {\n        \"dtype\": \"string\",\n        \"num_unique_values\": 24206,\n        \"samples\": [\n          \"ferc meeting this morning - order on el paso capacity allocation\",\n          \"rolex watches now for pea nut\",\n          \"urgent help\"\n        ],\n        \"semantic_type\": \"\",\n        \"description\": \"\"\n      }\n    },\n    {\n      \"column\": \"Message\",\n      \"properties\": {\n        \"dtype\": \"string\",\n        \"num_unique_values\": 29779,\n        \"samples\": [\n          \"cera alert\\ntitle : the fallout from enron : implications for gas and power markets\\nurl ( s ) :\\nhttp : / / www . cera . com / eprofile ? u = 35\\nhttp : / / www . cera . com / eprofile ? u = 35\\nhttp : / / www . cera . com / eprofile ? u = 35\\nhttp : / / www . cera . com / eprofile ? u = 35\\nthe collapse of the proposed enron / dynegy merger has sent a shock wave through\\nthe industry but does not threaten the effective functioning of wholesale gas\\nand power markets in north america . major market participants have had more\\nthan a month to unwind positions with enron , and thus the overall exposure has\\nbeen greatly reduced .\\n* wholesale gas and power markets in north america continue to function\\neffectively . there is no reason for the physical flow of gas or power to be\\nimpeded this winter .\\n* liquidity for longer - term structured products has temporarily been reduced .\\nothers will move in to fill the gap , but this will take time .\\n* enron ' s problems do not represent a critical blow to deregulating gas and\\npower markets .\\nwe are sending this alert to global energy clients also because of enron ' s\\nmajor role in the us gas and power markets .\\n* * end * *\\nfollow above url to complete alert ( 2 printed pages ) .\\ne - mail category : alert\\ncera knowledge area ( s ) : western energy , global energy , north american gas , north american power\\nceraweek february 11 - 15 , 2002 - http : / / www . cera . com / ceraweek\\nspecial offer : register on - line before november 30 th , and a 2 - day pass\\nwill be upgraded to a 4 - day pass ( maximum $ 1 , 800 value ) .\\nday 1 : global oil / refined products ;\\nday 2 : natural gas / global energy ;\\nday 3 & 4 : electric power\\nto make changes to your cera . com profile go to :\\nhttp : / / www . cera . com / client / updateaccount\\nforgot your username and password ? go to :\\nhttp : / / www . cera . com / client / forgot\\nthis electronic message and attachments , if any , contain information\\nfrom cambridge energy research associates , inc . ( cera ) which is\\nconfidential and may be privileged . unauthorized disclosure , copying ,\\ndistribution or use of the contents of this message or any attachments ,\\nin whole or in part , is strictly prohibited .\\nterms of use : http : / / www . cera . com / tos\\nquestions / comments : webmaster @ cera . com\\ncopyright 2001 . cambridge energy research associates\",\n          \"people i am paying for : -\\nmyself\\njames new - power , gas and credit\\nmike wellings - uk power\\ncoralie evans - continental power\\nrobert yeo - uk and continental gas\\npaul d ' arcy - structured products\\ndavid wall - credit\\nandrew cornfield - metals risk manager\\npeople who may come from egm - fiona , we should get them on same booking if\\nthey confirm attendance ( patti , could you let fiona know ? )\\ncindy horn\\nkenny nicoll\\nmark fondren\\n- - - - - - - - - - - - - - - - - - - - - - forwarded by mike jordan / lon / ect on 25 / 09 / 2000 16 : 19\\n- - - - - - - - - - - - - - - - - - - - - - - - - - -\\nmike jordan\\n12 / 09 / 2000 08 : 26\\nto : sally beck / hou / ect @ ect\\ncc :\\nsubject : re : invitation list for operations business controller offsite\\nsally\\nproposed list - of all potential candidates\\nmyself\\njames new - and his lead risk managers\\nmike wellings - uk power\\ncoralie evans - continental power\\nrobert yeo - uk and continental gas\\npaul d ' arcy - structured products\\ndavid wall - credit\\ntim poullain - patterson - metals integration\\nandrew cornfield - metals risk manager\\nkevin rhodes - metals controller ( there are in fact two controllers at\\npresent kevin for financial trading and howard carter for merchanting )\\ni would leave ralph jaeger of frankfurt out of the offsite if places are\\nrestricted - he is covered by the mainstream accounting conferences , but i\\nwould have jan erland , and heidi and tiong hock from singapore .\\ni am not sure fernley would want to be there - but i can ask .\\non others - simon thurbin of liquids in london should be in houston and\\nwould be a good choice for inclusion . brent may want his two london\\ncontrollers of cindy horn and kenny nicoll to also come\\nwould you invite kristen to come with ( in place of barry ? ) .\\na long list ( and we may want to cut back ) but all these individuals carry\\nthe burden of operational risk assessment and management - standardising that\\nprocess would be an achievement indeed .\\nmike\\nps - shall we revisit agenda and discuss who should start preparing\\npresentations - we had thought about engaging rac , it etc\\nenron capital & trade resources corp .\\nfrom : sally beck 11 / 09 / 2000 21 : 49\\nto : mike jordan / lon / ect @ ect\\ncc :\\nsubject : invitation list for operations business controller offsite\\ndates : sunday , october 22 ( late afternoon , early evening kick - off , reception\\nand dinner )\\nmonday , october 23 ( all day , with evening event )\\ntuesday , october 24 ( through mid afternoon )\\nconfirmed speakers to date : jeff skilling ( tuesday , october 24 - available\\n9 : 30 am to 1 : 00 pm )\\nproposed list of attendees ( mike : let ' s talk about the scope of this list on\\ntuesday ) :\\nena\\ngas - steve jackson\\nleslie reeves\\nbob hall\\npower - stacey white\\ncalgary - peggy hedstrom\\neim\\npulp , paper , lumber - brenda herod\\negm\\ngeneral - brent price\\nglobal products - scott earnest\\nweather - todd hall\\nfinancial products - sheila glover\\n? kevin sweeney\\neel\\n? fernley dyson\\nmike jordan\\nlondon - james new\\nfrankfort - ralph jaeger\\nmetals - tim pouillan - patterson\\naustralia - heidi mason\\njapan - jan - erland beking\\nesa\\nscott mills\\nebs\\nbarry pearce\\nees\\nwanda curry ?\\nglobal risk management\\nsally beck\\nshona wilson\\neugenio perez\\nmike moscoso\",\n          \"hi louise ,\\nhopefully this is what you requested . if you prefer the other presentation ( by team as per the bound book wes gave you ) i can send that as well .\\n- - - - - original message - - - - -\\nfrom : hardy , trey\\nsent : monday , april 30 , 2001 8 : 37 am\\nto : killen , faith\\nsubject :\\nimportance : high\"\n        ],\n        \"semantic_type\": \"\",\n        \"description\": \"\"\n      }\n    },\n    {\n      \"column\": \"Spam/Ham\",\n      \"properties\": {\n        \"dtype\": \"category\",\n        \"num_unique_values\": 2,\n        \"samples\": [\n          \"spam\",\n          \"ham\"\n        ],\n        \"semantic_type\": \"\",\n        \"description\": \"\"\n      }\n    },\n    {\n      \"column\": \"Date\",\n      \"properties\": {\n        \"dtype\": \"object\",\n        \"num_unique_values\": 1527,\n        \"samples\": [\n          \"2001-12-24\",\n          \"2000-03-23\"\n        ],\n        \"semantic_type\": \"\",\n        \"description\": \"\"\n      }\n    }\n  ]\n}",
              "type": "dataframe",
              "variable_name": "df"
            },
            "text/html": [
              "\n",
              "  <div id=\"df-5d6185d3-4a45-42de-aa15-b5e9a0016274\" class=\"colab-df-container\">\n",
              "    <div>\n",
              "<style scoped>\n",
              "    .dataframe tbody tr th:only-of-type {\n",
              "        vertical-align: middle;\n",
              "    }\n",
              "\n",
              "    .dataframe tbody tr th {\n",
              "        vertical-align: top;\n",
              "    }\n",
              "\n",
              "    .dataframe thead th {\n",
              "        text-align: right;\n",
              "    }\n",
              "</style>\n",
              "<table border=\"1\" class=\"dataframe\">\n",
              "  <thead>\n",
              "    <tr style=\"text-align: right;\">\n",
              "      <th></th>\n",
              "      <th>Message ID</th>\n",
              "      <th>Subject</th>\n",
              "      <th>Message</th>\n",
              "      <th>Spam/Ham</th>\n",
              "      <th>Date</th>\n",
              "    </tr>\n",
              "  </thead>\n",
              "  <tbody>\n",
              "    <tr>\n",
              "      <th>0</th>\n",
              "      <td>0</td>\n",
              "      <td>christmas tree farm pictures</td>\n",
              "      <td>NaN</td>\n",
              "      <td>ham</td>\n",
              "      <td>1999-12-10</td>\n",
              "    </tr>\n",
              "    <tr>\n",
              "      <th>1</th>\n",
              "      <td>1</td>\n",
              "      <td>vastar resources , inc .</td>\n",
              "      <td>gary , production from the high island larger ...</td>\n",
              "      <td>ham</td>\n",
              "      <td>1999-12-13</td>\n",
              "    </tr>\n",
              "    <tr>\n",
              "      <th>2</th>\n",
              "      <td>2</td>\n",
              "      <td>calpine daily gas nomination</td>\n",
              "      <td>- calpine daily gas nomination 1 . doc</td>\n",
              "      <td>ham</td>\n",
              "      <td>1999-12-14</td>\n",
              "    </tr>\n",
              "    <tr>\n",
              "      <th>3</th>\n",
              "      <td>3</td>\n",
              "      <td>re : issue</td>\n",
              "      <td>fyi - see note below - already done .\\nstella\\...</td>\n",
              "      <td>ham</td>\n",
              "      <td>1999-12-14</td>\n",
              "    </tr>\n",
              "    <tr>\n",
              "      <th>4</th>\n",
              "      <td>4</td>\n",
              "      <td>meter 7268 nov allocation</td>\n",
              "      <td>fyi .\\n- - - - - - - - - - - - - - - - - - - -...</td>\n",
              "      <td>ham</td>\n",
              "      <td>1999-12-14</td>\n",
              "    </tr>\n",
              "  </tbody>\n",
              "</table>\n",
              "</div>\n",
              "    <div class=\"colab-df-buttons\">\n",
              "\n",
              "  <div class=\"colab-df-container\">\n",
              "    <button class=\"colab-df-convert\" onclick=\"convertToInteractive('df-5d6185d3-4a45-42de-aa15-b5e9a0016274')\"\n",
              "            title=\"Convert this dataframe to an interactive table.\"\n",
              "            style=\"display:none;\">\n",
              "\n",
              "  <svg xmlns=\"http://www.w3.org/2000/svg\" height=\"24px\" viewBox=\"0 -960 960 960\">\n",
              "    <path d=\"M120-120v-720h720v720H120Zm60-500h600v-160H180v160Zm220 220h160v-160H400v160Zm0 220h160v-160H400v160ZM180-400h160v-160H180v160Zm440 0h160v-160H620v160ZM180-180h160v-160H180v160Zm440 0h160v-160H620v160Z\"/>\n",
              "  </svg>\n",
              "    </button>\n",
              "\n",
              "  <style>\n",
              "    .colab-df-container {\n",
              "      display:flex;\n",
              "      gap: 12px;\n",
              "    }\n",
              "\n",
              "    .colab-df-convert {\n",
              "      background-color: #E8F0FE;\n",
              "      border: none;\n",
              "      border-radius: 50%;\n",
              "      cursor: pointer;\n",
              "      display: none;\n",
              "      fill: #1967D2;\n",
              "      height: 32px;\n",
              "      padding: 0 0 0 0;\n",
              "      width: 32px;\n",
              "    }\n",
              "\n",
              "    .colab-df-convert:hover {\n",
              "      background-color: #E2EBFA;\n",
              "      box-shadow: 0px 1px 2px rgba(60, 64, 67, 0.3), 0px 1px 3px 1px rgba(60, 64, 67, 0.15);\n",
              "      fill: #174EA6;\n",
              "    }\n",
              "\n",
              "    .colab-df-buttons div {\n",
              "      margin-bottom: 4px;\n",
              "    }\n",
              "\n",
              "    [theme=dark] .colab-df-convert {\n",
              "      background-color: #3B4455;\n",
              "      fill: #D2E3FC;\n",
              "    }\n",
              "\n",
              "    [theme=dark] .colab-df-convert:hover {\n",
              "      background-color: #434B5C;\n",
              "      box-shadow: 0px 1px 3px 1px rgba(0, 0, 0, 0.15);\n",
              "      filter: drop-shadow(0px 1px 2px rgba(0, 0, 0, 0.3));\n",
              "      fill: #FFFFFF;\n",
              "    }\n",
              "  </style>\n",
              "\n",
              "    <script>\n",
              "      const buttonEl =\n",
              "        document.querySelector('#df-5d6185d3-4a45-42de-aa15-b5e9a0016274 button.colab-df-convert');\n",
              "      buttonEl.style.display =\n",
              "        google.colab.kernel.accessAllowed ? 'block' : 'none';\n",
              "\n",
              "      async function convertToInteractive(key) {\n",
              "        const element = document.querySelector('#df-5d6185d3-4a45-42de-aa15-b5e9a0016274');\n",
              "        const dataTable =\n",
              "          await google.colab.kernel.invokeFunction('convertToInteractive',\n",
              "                                                    [key], {});\n",
              "        if (!dataTable) return;\n",
              "\n",
              "        const docLinkHtml = 'Like what you see? Visit the ' +\n",
              "          '<a target=\"_blank\" href=https://colab.research.google.com/notebooks/data_table.ipynb>data table notebook</a>'\n",
              "          + ' to learn more about interactive tables.';\n",
              "        element.innerHTML = '';\n",
              "        dataTable['output_type'] = 'display_data';\n",
              "        await google.colab.output.renderOutput(dataTable, element);\n",
              "        const docLink = document.createElement('div');\n",
              "        docLink.innerHTML = docLinkHtml;\n",
              "        element.appendChild(docLink);\n",
              "      }\n",
              "    </script>\n",
              "  </div>\n",
              "\n",
              "\n",
              "<div id=\"df-ea46396b-a946-40c8-9a23-6b972deedb60\">\n",
              "  <button class=\"colab-df-quickchart\" onclick=\"quickchart('df-ea46396b-a946-40c8-9a23-6b972deedb60')\"\n",
              "            title=\"Suggest charts\"\n",
              "            style=\"display:none;\">\n",
              "\n",
              "<svg xmlns=\"http://www.w3.org/2000/svg\" height=\"24px\"viewBox=\"0 0 24 24\"\n",
              "     width=\"24px\">\n",
              "    <g>\n",
              "        <path d=\"M19 3H5c-1.1 0-2 .9-2 2v14c0 1.1.9 2 2 2h14c1.1 0 2-.9 2-2V5c0-1.1-.9-2-2-2zM9 17H7v-7h2v7zm4 0h-2V7h2v10zm4 0h-2v-4h2v4z\"/>\n",
              "    </g>\n",
              "</svg>\n",
              "  </button>\n",
              "\n",
              "<style>\n",
              "  .colab-df-quickchart {\n",
              "      --bg-color: #E8F0FE;\n",
              "      --fill-color: #1967D2;\n",
              "      --hover-bg-color: #E2EBFA;\n",
              "      --hover-fill-color: #174EA6;\n",
              "      --disabled-fill-color: #AAA;\n",
              "      --disabled-bg-color: #DDD;\n",
              "  }\n",
              "\n",
              "  [theme=dark] .colab-df-quickchart {\n",
              "      --bg-color: #3B4455;\n",
              "      --fill-color: #D2E3FC;\n",
              "      --hover-bg-color: #434B5C;\n",
              "      --hover-fill-color: #FFFFFF;\n",
              "      --disabled-bg-color: #3B4455;\n",
              "      --disabled-fill-color: #666;\n",
              "  }\n",
              "\n",
              "  .colab-df-quickchart {\n",
              "    background-color: var(--bg-color);\n",
              "    border: none;\n",
              "    border-radius: 50%;\n",
              "    cursor: pointer;\n",
              "    display: none;\n",
              "    fill: var(--fill-color);\n",
              "    height: 32px;\n",
              "    padding: 0;\n",
              "    width: 32px;\n",
              "  }\n",
              "\n",
              "  .colab-df-quickchart:hover {\n",
              "    background-color: var(--hover-bg-color);\n",
              "    box-shadow: 0 1px 2px rgba(60, 64, 67, 0.3), 0 1px 3px 1px rgba(60, 64, 67, 0.15);\n",
              "    fill: var(--button-hover-fill-color);\n",
              "  }\n",
              "\n",
              "  .colab-df-quickchart-complete:disabled,\n",
              "  .colab-df-quickchart-complete:disabled:hover {\n",
              "    background-color: var(--disabled-bg-color);\n",
              "    fill: var(--disabled-fill-color);\n",
              "    box-shadow: none;\n",
              "  }\n",
              "\n",
              "  .colab-df-spinner {\n",
              "    border: 2px solid var(--fill-color);\n",
              "    border-color: transparent;\n",
              "    border-bottom-color: var(--fill-color);\n",
              "    animation:\n",
              "      spin 1s steps(1) infinite;\n",
              "  }\n",
              "\n",
              "  @keyframes spin {\n",
              "    0% {\n",
              "      border-color: transparent;\n",
              "      border-bottom-color: var(--fill-color);\n",
              "      border-left-color: var(--fill-color);\n",
              "    }\n",
              "    20% {\n",
              "      border-color: transparent;\n",
              "      border-left-color: var(--fill-color);\n",
              "      border-top-color: var(--fill-color);\n",
              "    }\n",
              "    30% {\n",
              "      border-color: transparent;\n",
              "      border-left-color: var(--fill-color);\n",
              "      border-top-color: var(--fill-color);\n",
              "      border-right-color: var(--fill-color);\n",
              "    }\n",
              "    40% {\n",
              "      border-color: transparent;\n",
              "      border-right-color: var(--fill-color);\n",
              "      border-top-color: var(--fill-color);\n",
              "    }\n",
              "    60% {\n",
              "      border-color: transparent;\n",
              "      border-right-color: var(--fill-color);\n",
              "    }\n",
              "    80% {\n",
              "      border-color: transparent;\n",
              "      border-right-color: var(--fill-color);\n",
              "      border-bottom-color: var(--fill-color);\n",
              "    }\n",
              "    90% {\n",
              "      border-color: transparent;\n",
              "      border-bottom-color: var(--fill-color);\n",
              "    }\n",
              "  }\n",
              "</style>\n",
              "\n",
              "  <script>\n",
              "    async function quickchart(key) {\n",
              "      const quickchartButtonEl =\n",
              "        document.querySelector('#' + key + ' button');\n",
              "      quickchartButtonEl.disabled = true;  // To prevent multiple clicks.\n",
              "      quickchartButtonEl.classList.add('colab-df-spinner');\n",
              "      try {\n",
              "        const charts = await google.colab.kernel.invokeFunction(\n",
              "            'suggestCharts', [key], {});\n",
              "      } catch (error) {\n",
              "        console.error('Error during call to suggestCharts:', error);\n",
              "      }\n",
              "      quickchartButtonEl.classList.remove('colab-df-spinner');\n",
              "      quickchartButtonEl.classList.add('colab-df-quickchart-complete');\n",
              "    }\n",
              "    (() => {\n",
              "      let quickchartButtonEl =\n",
              "        document.querySelector('#df-ea46396b-a946-40c8-9a23-6b972deedb60 button');\n",
              "      quickchartButtonEl.style.display =\n",
              "        google.colab.kernel.accessAllowed ? 'block' : 'none';\n",
              "    })();\n",
              "  </script>\n",
              "</div>\n",
              "\n",
              "    </div>\n",
              "  </div>\n"
            ],
            "text/plain": [
              "   Message ID                       Subject  \\\n",
              "0           0  christmas tree farm pictures   \n",
              "1           1      vastar resources , inc .   \n",
              "2           2  calpine daily gas nomination   \n",
              "3           3                    re : issue   \n",
              "4           4     meter 7268 nov allocation   \n",
              "\n",
              "                                             Message Spam/Ham        Date  \n",
              "0                                                NaN      ham  1999-12-10  \n",
              "1  gary , production from the high island larger ...      ham  1999-12-13  \n",
              "2             - calpine daily gas nomination 1 . doc      ham  1999-12-14  \n",
              "3  fyi - see note below - already done .\\nstella\\...      ham  1999-12-14  \n",
              "4  fyi .\\n- - - - - - - - - - - - - - - - - - - -...      ham  1999-12-14  "
            ]
          },
          "execution_count": 5,
          "metadata": {},
          "output_type": "execute_result"
        }
      ],
      "source": [
        "df.head()"
      ]
    },
    {
      "cell_type": "code",
      "execution_count": null,
      "metadata": {
        "colab": {
          "base_uri": "https://localhost:8080/",
          "height": 564
        },
        "id": "lXDQsRUDQjjx",
        "outputId": "073373b2-f73b-47ba-d2c7-669835293001"
      },
      "outputs": [
        {
          "data": {
            "image/png": "[encoded data removed]",
            "text/plain": [
              "<Figure size 800x600 with 1 Axes>"
            ]
          },
          "metadata": {},
          "output_type": "display_data"
        }
      ],
      "source": [
        "# Plot the distribution of Spam and Ham messages\n",
        "spam_count = df['Spam/Ham'].value_counts()\n",
        "plt.figure(figsize=(8, 6))\n",
        "plt.bar(spam_count.index, spam_count.values, color=['blue', 'orange'])\n",
        "plt.xlabel('Category')\n",
        "plt.ylabel('Count')\n",
        "plt.title('Distribution of Spam and Ham Messages')\n",
        "plt.xticks(ticks=spam_count.index, labels=['Ham', 'Spam'], rotation=0)\n",
        "plt.show()"
      ]
    },
    {
      "cell_type": "markdown",
      "metadata": {
        "id": "70dGQvZb02B6"
      },
      "source": [
        "###  Preprocess data"
      ]
    },
    {
      "cell_type": "code",
      "execution_count": null,
      "metadata": {
        "colab": {
          "base_uri": "https://localhost:8080/"
        },
        "id": "VZPqZgYHACqv",
        "outputId": "63e0ce71-d0bf-4fcb-9af6-1196a5e38fdc"
      },
      "outputs": [
        {
          "name": "stdout",
          "output_type": "stream",
          "text": [
            "Number of missing values in 'Subject': 289\n",
            "Number of missing values in 'Message': 371\n"
          ]
        }
      ],
      "source": [
        "na_subject_count = df['Subject'].isna().sum()\n",
        "na_message_count = df['Message'].isna().sum()\n",
        "\n",
        "print(f\"Number of missing values in 'Subject': {na_subject_count}\")\n",
        "print(f\"Number of missing values in 'Message': {na_message_count}\")"
      ]
    },
    {
      "cell_type": "code",
      "execution_count": null,
      "metadata": {
        "id": "BEe1W9nPmxVn"
      },
      "outputs": [],
      "source": [
        "# Drop missing values\n",
        "df.dropna(subset=['Subject', 'Message'], inplace=True)#"
      ]
    },
    {
      "cell_type": "code",
      "execution_count": null,
      "metadata": {
        "id": "MuXQTtuw04gy"
      },
      "outputs": [],
      "source": [
        "# Convert non-string values to empty strings and process text\n",
        "df['Subject'] = df['Subject'].astype(str)\n",
        "df['Message'] = df['Message'].astype(str)"
      ]
    },
    {
      "cell_type": "code",
      "execution_count": null,
      "metadata": {
        "id": "ZKmjYyRY_w-V"
      },
      "outputs": [],
      "source": [
        "# Combine Subject and Message into one text\n",
        "df['Combine_Message'] = df['Subject'] + ' ' + df['Message']\n",
        "df['Processed_Message'] = df['Combine_Message'].str.lower()"
      ]
    },
    {
      "cell_type": "code",
      "execution_count": null,
      "metadata": {
        "colab": {
          "base_uri": "https://localhost:8080/"
        },
        "id": "FK2gXuX-ALVo",
        "outputId": "b430501f-35d6-4358-9fb7-779a8393df1a"
      },
      "outputs": [
        {
          "data": {
            "text/plain": [
              "(33107, 1)"
            ]
          },
          "execution_count": 11,
          "metadata": {},
          "output_type": "execute_result"
        }
      ],
      "source": [
        "# Encode labels\n",
        "label_encoder = LabelEncoder()\n",
        "y = label_encoder.fit_transform(df['Spam/Ham'])\n",
        "y = y.reshape(-1, 1)\n",
        "y.shape"
      ]
    },
    {
      "cell_type": "markdown",
      "metadata": {
        "id": "KIlPfGcAAPR4"
      },
      "source": [
        "### Split the dataset"
      ]
    },
    {
      "cell_type": "code",
      "execution_count": null,
      "metadata": {
        "id": "Ky8CnUCfAMOA"
      },
      "outputs": [],
      "source": [
        "# Split data into training and validation sets\n",
        "X_train, X_val, y_train, y_val = train_test_split(df['Processed_Message'], y, test_size=0.2, random_state=42)"
      ]
    },
    {
      "cell_type": "markdown",
      "metadata": {
        "id": "vxn8HaigAoyL"
      },
      "source": [
        "### Tokenize"
      ]
    },
    {
      "cell_type": "code",
      "execution_count": null,
      "metadata": {
        "id": "tfC4b0h2AqWf"
      },
      "outputs": [],
      "source": [
        "# Tokenize the training data\n",
        "max_vocab_size = 30000\n",
        "tokenizer = Tokenizer(num_words=max_vocab_size)\n",
        "tokenizer.fit_on_texts(X_train)"
      ]
    },
    {
      "cell_type": "code",
      "execution_count": null,
      "metadata": {
        "id": "d28hhYxLA1pO"
      },
      "outputs": [],
      "source": [
        "# Pad training and val data\n",
        "sequences_train = tokenizer.texts_to_sequences(X_train)\n",
        "sequences_val = tokenizer.texts_to_sequences(X_val)"
      ]
    },
    {
      "cell_type": "markdown",
      "metadata": {
        "id": "ufkAtkYaNv3R"
      },
      "source": [
        "##### Check the length of sequences to set the proper maximum sequence of length"
      ]
    },
    {
      "cell_type": "code",
      "execution_count": null,
      "metadata": {
        "id": "0RjqCrmaMStK"
      },
      "outputs": [],
      "source": [
        "# Compute lengths of sequences\n",
        "lengths = [len(seq) for seq in sequences_train]\n",
        "\n",
        "# Create a DataFrame for plotting\n",
        "lengths_df = pd.DataFrame(lengths, columns=['Length'])"
      ]
    },
    {
      "cell_type": "code",
      "execution_count": null,
      "metadata": {
        "colab": {
          "base_uri": "https://localhost:8080/",
          "height": 564
        },
        "id": "bWt4XI6sMYxJ",
        "outputId": "bed43cf8-3bf2-4088-af1e-654e2758948d"
      },
      "outputs": [
        {
          "data": {
            "image/png": "[encoded data removed]",
            "text/plain": [
              "<Figure size 1000x600 with 1 Axes>"
            ]
          },
          "metadata": {},
          "output_type": "display_data"
        }
      ],
      "source": [
        "# Plot the distribution\n",
        "plt.figure(figsize=(10, 6))\n",
        "sns.histplot(lengths_df['Length'], bins=50, kde=True)\n",
        "plt.title('Distribution of Message Lengths')\n",
        "plt.xlabel('Sequence Length')\n",
        "plt.ylabel('Frequency')\n",
        "plt.xlim(0, 1000)\n",
        "plt.show()"
      ]
    },
    {
      "cell_type": "code",
      "execution_count": null,
      "metadata": {
        "id": "TbfxbtbH1-u_"
      },
      "outputs": [],
      "source": [
        "# Define max sequence length\n",
        "max_sequence_length = 300"
      ]
    },
    {
      "cell_type": "code",
      "execution_count": null,
      "metadata": {
        "id": "dE9hQ6ke2UiW"
      },
      "outputs": [],
      "source": [
        "# Pad sequences\n",
        "padded_sequences_train = pad_sequences(sequences_train, maxlen=max_sequence_length, padding='post')\n",
        "padded_sequences_val = pad_sequences(sequences_val, maxlen=max_sequence_length, padding='post')"
      ]
    },
    {
      "cell_type": "code",
      "execution_count": null,
      "metadata": {
        "colab": {
          "base_uri": "https://localhost:8080/"
        },
        "id": "TLbejWy0DNa0",
        "outputId": "53437ec5-da96-40fd-986b-3d925e98cf75"
      },
      "outputs": [
        {
          "name": "stdout",
          "output_type": "stream",
          "text": [
            "300\n",
            "300\n",
            "300\n",
            "300\n",
            "300\n"
          ]
        }
      ],
      "source": [
        "# Check the length of the padded sequences\n",
        "for i in range(5):\n",
        "  print(len(padded_sequences_train[i]))"
      ]
    },
    {
      "cell_type": "code",
      "execution_count": null,
      "metadata": {
        "id": "Zry6DO6R-Sb7"
      },
      "outputs": [],
      "source": [
        "def sequence_to_text(sequence, tokenizer):\n",
        "    reverse_word_index = {index: word for word, index in tokenizer.word_index.items()}\n",
        "    return ' '.join([reverse_word_index.get(i, '?') for i in sequence if i != 0])"
      ]
    },
    {
      "cell_type": "code",
      "execution_count": null,
      "metadata": {
        "colab": {
          "base_uri": "https://localhost:8080/",
          "height": 53
        },
        "id": "bCA5V4xx-Too",
        "outputId": "3ae79498-39c9-4ed9-ab3f-dad3957dd6b4"
      },
      "outputs": [
        {
          "data": {
            "application/vnd.google.colaboratory.intrinsic+json": {
              "type": "string"
            },
            "text/plain": [
              "'learn how to get this freedom freedom of choice prescriptions for female sexual it \\x92 s such a part of me i assume everyone can see it necessity makes even the brave history is a nightmare from which i am trying to awake'"
            ]
          },
          "execution_count": 21,
          "metadata": {},
          "output_type": "execute_result"
        }
      ],
      "source": [
        "sequence = padded_sequences_train[5]\n",
        "\n",
        "# Convert the sequence back to text\n",
        "text = sequence_to_text(sequence, tokenizer)\n",
        "text"
      ]
    },
    {
      "cell_type": "markdown",
      "metadata": {
        "id": "8nRvh4Gx2vaz"
      },
      "source": [
        "### Design neural network architecture"
      ]
    },
    {
      "cell_type": "code",
      "execution_count": null,
      "metadata": {
        "id": "UNYkA8bH27DM"
      },
      "outputs": [],
      "source": [
        "model = Sequential()\n",
        "\n",
        "# Embedding Layer\n",
        "model.add(Embedding(input_dim=max_vocab_size, output_dim=100, input_length=max_sequence_length))\n",
        "model.add(SpatialDropout1D(0.2))\n",
        "\n",
        "# LSTM Layer\n",
        "model.add(Bidirectional(LSTM(128, dropout=0.2, return_sequences=True)))\n",
        "model.add(Bidirectional(LSTM(64, dropout=0.2)))\n",
        "\n",
        "# Output Layer\n",
        "model.add(Dense(1, activation='sigmoid'))"
      ]
    },
    {
      "cell_type": "code",
      "execution_count": null,
      "metadata": {
        "colab": {
          "base_uri": "https://localhost:8080/"
        },
        "id": "1qhPr4PL8MVn",
        "outputId": "91afaf54-9cbf-4e3c-f185-3ffe03f577cc"
      },
      "outputs": [
        {
          "name": "stdout",
          "output_type": "stream",
          "text": [
            "Model: \"sequential\"\n",
            "_________________________________________________________________\n",
            " Layer (type)                Output Shape              Param #   \n",
            "=================================================================\n",
            " embedding (Embedding)       (None, 300, 100)          3000000   \n",
            "                                                                 \n",
            " spatial_dropout1d (Spatial  (None, 300, 100)          0         \n",
            " Dropout1D)                                                      \n",
            "                                                                 \n",
            " bidirectional (Bidirection  (None, 300, 256)          234496    \n",
            " al)                                                             \n",
            "                                                                 \n",
            " bidirectional_1 (Bidirecti  (None, 128)               164352    \n",
            " onal)                                                           \n",
            "                                                                 \n",
            " dense (Dense)               (None, 1)                 129       \n",
            "                                                                 \n",
            "=================================================================\n",
            "Total params: 3398977 (12.97 MB)\n",
            "Trainable params: 3398977 (12.97 MB)\n",
            "Non-trainable params: 0 (0.00 Byte)\n",
            "_________________________________________________________________\n"
          ]
        }
      ],
      "source": [
        "model.summary()"
      ]
    },
    {
      "cell_type": "markdown",
      "metadata": {
        "id": "pIbOMbY34XL3"
      },
      "source": [
        "### Compile model"
      ]
    },
    {
      "cell_type": "code",
      "execution_count": null,
      "metadata": {
        "id": "oCRlwDkE4we7"
      },
      "outputs": [],
      "source": [
        "model.compile(loss='binary_crossentropy', optimizer='nadam', metrics=['accuracy'])"
      ]
    },
    {
      "cell_type": "markdown",
      "metadata": {
        "id": "iQC4ahUv40RR"
      },
      "source": [
        "### Train model"
      ]
    },
    {
      "cell_type": "code",
      "execution_count": null,
      "metadata": {
        "colab": {
          "background_save": true,
          "base_uri": "https://localhost:8080/"
        },
        "id": "B-IVpZr641lj",
        "outputId": "93156743-53f1-4894-a93e-4620e4dd03cb"
      },
      "outputs": [
        {
          "name": "stdout",
          "output_type": "stream",
          "text": [
            "Epoch 1/5\n",
            "414/414 [==============================] - 1212s 3s/step - loss: 0.1458 - accuracy: 0.9414 - val_loss: 0.0760 - val_accuracy: 0.9767\n",
            "Epoch 2/5\n",
            "414/414 [==============================] - 1150s 3s/step - loss: 0.0554 - accuracy: 0.9829 - val_loss: 0.0553 - val_accuracy: 0.9864\n",
            "Epoch 3/5\n",
            "414/414 [==============================] - 1139s 3s/step - loss: 0.0253 - accuracy: 0.9923 - val_loss: 0.1829 - val_accuracy: 0.9456\n",
            "Epoch 4/5\n",
            " 39/414 [=>............................] - ETA: 16:09 - loss: 0.0698 - accuracy: 0.9780"
          ]
        }
      ],
      "source": [
        "model.fit(padded_sequences_train, y_train, epochs=5, batch_size=64, validation_data=(padded_sequences_val, y_val))"
      ]
    },
    {
      "cell_type": "markdown",
      "metadata": {
        "id": "_7Bb7BM-5J8-"
      },
      "source": [
        "### Evaluate model"
      ]
    },
    {
      "cell_type": "code",
      "execution_count": null,
      "metadata": {
        "colab": {
          "base_uri": "https://localhost:8080/"
        },
        "id": "_FkFNTln5Ld5",
        "outputId": "fce7d7c2-2110-495b-d175-577a6fd92ad0"
      },
      "outputs": [
        {
          "name": "stdout",
          "output_type": "stream",
          "text": [
            "207/207 [==============================] - 4s 20ms/step - loss: 0.0432 - accuracy: 0.9900\n",
            "Test Accuracy: 99.00%\n",
            "207/207 [==============================] - 4s 15ms/step\n",
            "ROC AUC: 1.00\n"
          ]
        }
      ],
      "source": [
        "# Evaluate the model\n",
        "accuracy = model.evaluate(padded_sequences_val, y_val)[1]\n",
        "print(f\"Test Accuracy: {accuracy * 100:.2f}%\")\n",
        "\n",
        "y_pred_prob = model.predict(padded_sequences_val).flatten()\n",
        "roc_auc = roc_auc_score(y_val, y_pred_prob)\n",
        "print(f\"ROC AUC: {roc_auc:.2f}\")"
      ]
    },
    {
      "cell_type": "code",
      "execution_count": null,
      "metadata": {
        "colab": {
          "base_uri": "https://localhost:8080/",
          "height": 564
        },
        "id": "1mmKp3-Z8WAX",
        "outputId": "ad386245-6372-40d1-a357-bc5aea04a451"
      },
      "outputs": [
        {
          "data": {
            "image/png": "[encoded data removed]",
            "text/plain": [
              "<Figure size 800x600 with 1 Axes>"
            ]
          },
          "metadata": {},
          "output_type": "display_data"
        }
      ],
      "source": [
        "from sklearn.metrics import roc_curve\n",
        "\n",
        "fpr, tpr, _ = roc_curve(y_val, y_pred_prob)\n",
        "plt.figure(figsize=(8, 6))\n",
        "plt.plot(fpr, tpr, marker='.')\n",
        "plt.xlabel('False Positive Rate')\n",
        "plt.ylabel('True Positive Rate')\n",
        "plt.title('ROC Curve')\n",
        "plt.show()"
      ]
    },
    {
      "cell_type": "code",
      "execution_count": null,
      "metadata": {
        "colab": {
          "base_uri": "https://localhost:8080/",
          "height": 466
        },
        "id": "U1bQIGIY8PC-",
        "outputId": "d586da60-a61f-4109-93c3-51d93522cdf4"
      },
      "outputs": [
        {
          "name": "stdout",
          "output_type": "stream",
          "text": [
            "207/207 [==============================] - 3s 16ms/step\n"
          ]
        },
        {
          "data": {
            "image/png": "[encoded data removed]",
            "text/plain": [
              "<Figure size 640x480 with 2 Axes>"
            ]
          },
          "metadata": {},
          "output_type": "display_data"
        }
      ],
      "source": [
        "# Plot confusion matrix\n",
        "from sklearn.metrics import confusion_matrix, ConfusionMatrixDisplay\n",
        "\n",
        "y_pred = (model.predict(padded_sequences_val) > 0.5).astype(\"int32\")\n",
        "cm = confusion_matrix(y_val, y_pred)\n",
        "disp = ConfusionMatrixDisplay(confusion_matrix=cm, display_labels=['Ham', 'Spam'])\n",
        "disp.plot(cmap=plt.cm.Blues)\n",
        "plt.show()"
      ]
    },
    {
      "cell_type": "markdown",
      "metadata": {
        "id": "TEXDK5W8po3m"
      },
      "source": [
        "### Save the model and tokenizer"
      ]
    },
    {
      "cell_type": "code",
      "execution_count": null,
      "metadata": {
        "colab": {
          "base_uri": "https://localhost:8080/"
        },
        "id": "OtKzuvngpq5J",
        "outputId": "a0270d94-c573-4b76-d410-04d13ac3c10f"
      },
      "outputs": [
        {
          "name": "stderr",
          "output_type": "stream",
          "text": [
            "/usr/local/lib/python3.10/dist-packages/keras/src/engine/training.py:3103: UserWarning: You are saving your model as an HDF5 file via `model.save()`. This file format is considered legacy. We recommend using instead the native Keras format, e.g. `model.save('my_model.keras')`.\n",
            "  saving_api.save_model(\n"
          ]
        }
      ],
      "source": [
        "# Save the model\n",
        "model.save('spam_detection_model.h5')\n",
        "\n",
        "# Save the tokenizer\n",
        "with open('tokenizer.pkl', 'wb') as file:\n",
        "    pickle.dump(tokenizer, file)"
      ]
    },
    {
      "cell_type": "code",
      "execution_count": null,
      "metadata": {
        "colab": {
          "base_uri": "https://localhost:8080/"
        },
        "id": "t8kdAMKt4-SE",
        "outputId": "03c8b51f-8855-4a22-b70d-65a1a392834a"
      },
      "outputs": [
        {
          "name": "stdout",
          "output_type": "stream",
          "text": [
            "Mounted at /content/drive\n"
          ]
        }
      ],
      "source": [
        "from google.colab import drive\n",
        "drive.mount('/content/drive')"
      ]
    },
    {
      "cell_type": "code",
      "execution_count": null,
      "metadata": {
        "id": "YtgvfIxk5QM7"
      },
      "outputs": [],
      "source": [
        "model_path = '/content/drive/My Drive/spam_detection_model.h5'\n",
        "tokenizer_path = '/content/drive/My Drive/tokenizer.pkl'\n",
        "\n",
        "model.save(model_path)\n",
        "with open(tokenizer_path, 'wb') as file:\n",
        "    pickle.dump(tokenizer, file)"
      ]
    },
    {
      "cell_type": "markdown",
      "metadata": {
        "id": "YhIWNbzl5hFZ"
      },
      "source": [
        "### Perform inference"
      ]
    },
    {
      "cell_type": "code",
      "execution_count": null,
      "metadata": {
        "colab": {
          "base_uri": "https://localhost:8080/"
        },
        "id": "-_xK8_465ieL",
        "outputId": "f4c49aeb-6dab-46dc-b780-8544cc7d9533"
      },
      "outputs": [
        {
          "name": "stdout",
          "output_type": "stream",
          "text": [
            "1/1 [==============================] - 0s 96ms/step\n",
            "1/1 [==============================] - 0s 90ms/step\n",
            "Spam Probability: 99.99%\n",
            "Spam Probability: 0.03%\n"
          ]
        }
      ],
      "source": [
        "# Function to preprocess new text\n",
        "def preprocess_text(text):\n",
        "    text = text.lower()\n",
        "    return text\n",
        "\n",
        "# Function to predict if a text is spam\n",
        "def predict_spam(text):\n",
        "    preprocessed_text = preprocess_text(text)\n",
        "    sequence = tokenizer.texts_to_sequences([preprocessed_text])\n",
        "    padded_sequence = pad_sequences(sequence, maxlen=max_sequence_length, padding='post')\n",
        "    prediction = model.predict(padded_sequence)\n",
        "    return prediction[0][0] * 100\n",
        "\n",
        "# Example usage\n",
        "spam_text = \"You’ve been pre-approved for a $10,000 loan with low interest rates. Click here to apply now. Get your funds in as little as 24 hours!\"\n",
        "ham_text = \"I’m writing to update you on the sales report. I’ve completed the preliminary analysis and attached the draft for your review. Please let me know if you need any changes.\"\n",
        "\n",
        "spam_probability_spam = predict_spam(spam_text)\n",
        "spam_probability_ham = predict_spam(ham_text)\n",
        "\n",
        "print(f\"Spam Probability: {spam_probability_spam:.2f}%\")\n",
        "print(f\"Spam Probability: {spam_probability_ham:.2f}%\")"
      ]
    }
  ],
  "metadata": {
    "accelerator": "GPU",
    "colab": {
      "gpuType": "T4",
      "provenance": []
    },
    "kernelspec": {
      "display_name": "Python 3",
      "name": "python3"
    },
    "language_info": {
      "name": "python"
    }
  },
  "nbformat": 4,
  "nbformat_minor": 0
}